{
 "cells": [
  {
   "cell_type": "code",
   "execution_count": 366,
   "metadata": {},
   "outputs": [
    {
     "data": {
      "text/plain": [
       "'2.1.0'"
      ]
     },
     "execution_count": 366,
     "metadata": {},
     "output_type": "execute_result"
    }
   ],
   "source": [
    "import numpy as np\n",
    "import matplotlib.pyplot as plt\n",
    "%matplotlib inline\n",
    "import tensorflow as tf\n",
    "tf.__version__"
   ]
  },
  {
   "cell_type": "markdown",
   "metadata": {},
   "source": [
    "# Mục tiêu \n",
    "- Hiểu cách vận hành của một mạng fully connected nhiều lớp.\n",
    "- Code bằng Tensorflow 2 (bài này dùng bản 2.1.0) với custom layer (tự build init weights, bias, loss function,...)\n",
    "- Thực hành trên MNIST dataset của thư viện TensorFlow\n"
   ]
  },
  {
   "cell_type": "markdown",
   "metadata": {},
   "source": [
    "## Phần 1 - Sơ bộ về Foward trong mạng Neural\n",
    "*Không trình bày chi tiết về neural net*"
   ]
  },
  {
   "cell_type": "markdown",
   "metadata": {},
   "source": [
    "Về cơ bản, chẳng hạn ta có một sample \\\\(x=(x_1, x_2)\\\\), hidden layer gồm có 4 node H như hình bên, và thêm vào đó là 1 bias. Ouput layer là một layer có 2 node (ứng với 2 giá trị ta muốn classify). Mỗi \\\\(x_i\\\\) có một kết nối \\\\(w_j\\\\) nào đó với một node \\\\(H\\\\).\n",
    "![](https://theneuralperspective.files.wordpress.com/2016/10/screen-shot-2016-10-02-at-2-58-46-pm.png?w=550&h=318)\n",
    "\n",
    "**Bước 1**: Tính toán các tổ hợp tuyến tính giữa \\\\(x\\\\) và \\\\(W_1\\\\), ở đây là phép nhân vô hướng giữa hai véc tơ (tích trong của \\\\(x\\\\) và \\\\(W_1\\\\)) cộng với bias, kết quả ký hiệu là \\\\(z\\\\)."
   ]
  },
  {
   "cell_type": "code",
   "execution_count": 477,
   "metadata": {},
   "outputs": [
    {
     "name": "stdout",
     "output_type": "stream",
     "text": [
      "[[-5  1]]\n",
      "1\n"
     ]
    }
   ],
   "source": [
    "# tạo véc tơ x là một tensor shape (1,2), giá trị lấy trong khoảng (-10, 10)\n",
    "# tạo bias = 1\n",
    "# seed ddể cố định việc tạo ra x, W_1 và W_2, phục vụ cho việc test ở sau.\n",
    "np.random.seed(1)\n",
    "x = np.random.randint(-10,10,(1,2))\n",
    "b = 1\n",
    "print(x)\n",
    "print(b)"
   ]
  },
  {
   "cell_type": "markdown",
   "metadata": {},
   "source": [
    "véc tơ \\\\(x\\\\) có hai phần tử, thực hiện kết nối với 4 node \\\\(H\\\\), như vậy cần tạo ma trận \\\\(W_1\\\\) kích thước \\\\(1\\times 4\\\\). Một cách tương tự, \\\\(W_2\\\\) có kích thước \\\\(4\\times 2\\\\)"
   ]
  },
  {
   "cell_type": "code",
   "execution_count": 478,
   "metadata": {},
   "outputs": [
    {
     "name": "stdout",
     "output_type": "stream",
     "text": [
      "[[0.4359949  0.02592623 0.54966248 0.43532239]\n",
      " [0.4203678  0.33033482 0.20464863 0.61927097]]\n"
     ]
    }
   ],
   "source": [
    "np.random.seed(2)\n",
    "W_1 = np.random.random((2,4))\n",
    "print(W_1)"
   ]
  },
  {
   "cell_type": "code",
   "execution_count": 480,
   "metadata": {},
   "outputs": [
    {
     "name": "stdout",
     "output_type": "stream",
     "text": [
      "[[0.5507979  0.70814782]\n",
      " [0.29090474 0.51082761]\n",
      " [0.89294695 0.89629309]\n",
      " [0.12558531 0.20724288]]\n"
     ]
    }
   ],
   "source": [
    "np.random.seed(3)\n",
    "W_2 = np.random.random((4,2))\n",
    "print(W_2)"
   ]
  },
  {
   "cell_type": "markdown",
   "metadata": {},
   "source": [
    "\\\\(z_1\\\\) là kết quả được tính bởi \\\\(x\\\\) và node \\\\(H\\\\) thứ 1"
   ]
  },
  {
   "cell_type": "code",
   "execution_count": 481,
   "metadata": {},
   "outputs": [
    {
     "data": {
      "text/plain": [
       "array([-0.75960671])"
      ]
     },
     "execution_count": 481,
     "metadata": {},
     "output_type": "execute_result"
    }
   ],
   "source": [
    "z_1 = np.dot(x, W_1[:,0]) + b\n",
    "z_1"
   ]
  },
  {
   "cell_type": "code",
   "execution_count": 482,
   "metadata": {},
   "outputs": [
    {
     "data": {
      "text/plain": [
       "array([1.20070366])"
      ]
     },
     "execution_count": 482,
     "metadata": {},
     "output_type": "execute_result"
    }
   ],
   "source": [
    "z_2 = np.dot(x, W_1[:,1]) + b\n",
    "z_2"
   ]
  },
  {
   "cell_type": "markdown",
   "metadata": {},
   "source": [
    "Như vậy z là một tensor shape \\\\(1\\times 4\\\\), ứng với các ouput tại các node \\\\(H\\\\)."
   ]
  },
  {
   "cell_type": "code",
   "execution_count": 483,
   "metadata": {},
   "outputs": [
    {
     "data": {
      "text/plain": [
       "array([[-0.75960671,  1.20070366, -1.54366376, -0.557341  ]])"
      ]
     },
     "execution_count": 483,
     "metadata": {},
     "output_type": "execute_result"
    }
   ],
   "source": [
    "z = np.dot(x, W_1) + b\n",
    "z"
   ]
  },
  {
   "cell_type": "markdown",
   "metadata": {},
   "source": [
    "**Bước 2**: Thực hiện kích hoạt giá trị \\\\(z\\\\) từ tuyến tính lên phi tuyến bằng cách áp lên nó một hàm kích hoạt (activation function), giá trị sau khi kích hoạt ký hiệu là a.\n",
    "\n",
    "Có rất nhiều hàm kích hoạt trong deep, trong bài này, tôi dùng hàm sigmoid \n",
    "\n",
    "\\\\[f(x) = \\dfrac{e^{-x}}{1+e^{-x}}\\\\]"
   ]
  },
  {
   "cell_type": "code",
   "execution_count": 484,
   "metadata": {},
   "outputs": [],
   "source": [
    "def sigmoid(x):\n",
    "    return np.exp(-x)/(1+np.exp(-x))\n",
    "    "
   ]
  },
  {
   "cell_type": "code",
   "execution_count": 485,
   "metadata": {},
   "outputs": [
    {
     "data": {
      "text/plain": [
       "array([0.68126834])"
      ]
     },
     "execution_count": 485,
     "metadata": {},
     "output_type": "execute_result"
    }
   ],
   "source": [
    "a_1 = sigmoid(z_1)\n",
    "a_1"
   ]
  },
  {
   "cell_type": "code",
   "execution_count": 486,
   "metadata": {},
   "outputs": [
    {
     "data": {
      "text/plain": [
       "array([[0.68126834, 0.23135006, 0.8239967 , 0.63583708]])"
      ]
     },
     "execution_count": 486,
     "metadata": {},
     "output_type": "execute_result"
    }
   ],
   "source": [
    "a = sigmoid(z)\n",
    "a"
   ]
  },
  {
   "cell_type": "markdown",
   "metadata": {},
   "source": [
    "**Bước 3**: Tính toán tương tự với output layer (lặp lại 2 bước 1 và 2). Bias b được dùng lại.\n",
    "\n",
    "Do output layer có 2 node, ta sẽ dùng activation softmax như sau\n",
    "\n",
    "\\\\[g(x_i) = \\dfrac{e^{x_i}}{\\sum_i e^{x_i}}\\\\]"
   ]
  },
  {
   "cell_type": "code",
   "execution_count": 487,
   "metadata": {},
   "outputs": [],
   "source": [
    "def softmax(x):\n",
    "    return np.exp(x)/np.sum(np.exp(x), axis=1)"
   ]
  },
  {
   "cell_type": "markdown",
   "metadata": {},
   "source": [
    "Việc dùng Softmax có thể sinh ra các giá trị NaN (Not a Number), khắc phục bằng việc dùng softmax stable"
   ]
  },
  {
   "cell_type": "code",
   "execution_count": 639,
   "metadata": {},
   "outputs": [],
   "source": [
    "def softmax_stable(Z):\n",
    "    \"\"\"\n",
    "    Compute softmax values for each sets of scores in Z.\n",
    "    each column of Z is a set of score.    \n",
    "    \"\"\"\n",
    "    e_Z = np.exp(Z - np.max(Z,keepdims = True))\n",
    "    A = e_Z / e_Z.sum(axis = 1)\n",
    "    return A"
   ]
  },
  {
   "cell_type": "code",
   "execution_count": 488,
   "metadata": {},
   "outputs": [
    {
     "name": "stdout",
     "output_type": "stream",
     "text": [
      "Giá trị của 2 node output trước khi kích hoạt: [[2.25817914 2.47093394]]\n",
      "Giá trị sau khi kích hoatj: [[0.44701103 0.55298897]]\n"
     ]
    }
   ],
   "source": [
    "zz = np.dot(a, W_2) + b\n",
    "print('Giá trị của 2 node output trước khi kích hoạt:', zz)\n",
    "aa = softmax_stable(zz)\n",
    "print('Giá trị sau khi kích hoatj:', aa)"
   ]
  },
  {
   "cell_type": "markdown",
   "metadata": {},
   "source": [
    "Dễ dàng kiểm tra được tổng của các phần tử của aa là 1, có thể hiểu đơn giản là 2 node của output layer đóng vai trò như là 2 class, và giá trị sau khi kích hoạt chính là các xác suất mà \\\\(x\\\\) thuộc vào 2 class đó. Lẽ dĩ nhiên, lớp nào có xác suất lớn hơn thì khả năng \\\\(x\\\\) thuộc vào lớp đó cao hơn."
   ]
  },
  {
   "cell_type": "code",
   "execution_count": 489,
   "metadata": {},
   "outputs": [
    {
     "data": {
      "text/plain": [
       "1.0"
      ]
     },
     "execution_count": 489,
     "metadata": {},
     "output_type": "execute_result"
    }
   ],
   "source": [
    "np.sum(aa)"
   ]
  },
  {
   "cell_type": "markdown",
   "metadata": {},
   "source": [
    "### Thực hiện trên TensorFlow "
   ]
  },
  {
   "cell_type": "code",
   "execution_count": 490,
   "metadata": {},
   "outputs": [],
   "source": [
    "class FC_layer(object):\n",
    "    \"\"\"A simple fully-connected NN layer.\n",
    "    Args:\n",
    "    num_inputs (int): Kích thước của véc tơ input (số phần tử của vecto x)\n",
    "    layer_size (int): Kích thước của layer (số node)\n",
    "    activation_fn (callable): Hàm kích hoạt\n",
    "    Attributes:\n",
    "    W (ndarray): Giá trị weights khởi tạo\n",
    "    b (ndarray): Giá trị bias khởi tạo\n",
    "    activation_fn (callable): Như trên\n",
    "    \"\"\"\n",
    "    def __init__(self, num_inputs, layer_size, activation_fn):\n",
    "        super().__init__()\n",
    "        self.W = np.random.random((num_inputs, layer_size))\n",
    "        self.b = 1\n",
    "        self.activation_fn = activation_fn\n",
    "        \n",
    "    def forward(self,x):\n",
    "        z = np.dot(x, self.W) + self.b\n",
    "        a = self.activation_fn(z)\n",
    "        return a\n",
    "        \n",
    "    "
   ]
  },
  {
   "cell_type": "code",
   "execution_count": 492,
   "metadata": {},
   "outputs": [],
   "source": [
    "np.random.seed(2)\n",
    "layer1 = FC_layer(2,4,sigmoid)"
   ]
  },
  {
   "cell_type": "code",
   "execution_count": 493,
   "metadata": {},
   "outputs": [
    {
     "data": {
      "text/plain": [
       "array([[-5,  1]])"
      ]
     },
     "execution_count": 493,
     "metadata": {},
     "output_type": "execute_result"
    }
   ],
   "source": [
    "np.random.seed(1)\n",
    "x = np.random.randint(-10,10,(1,2))\n",
    "x"
   ]
  },
  {
   "cell_type": "code",
   "execution_count": 494,
   "metadata": {},
   "outputs": [
    {
     "data": {
      "text/plain": [
       "array([[0.68126834, 0.23135006, 0.8239967 , 0.63583708]])"
      ]
     },
     "execution_count": 494,
     "metadata": {},
     "output_type": "execute_result"
    }
   ],
   "source": [
    "layer1.forward(x)"
   ]
  },
  {
   "cell_type": "code",
   "execution_count": 495,
   "metadata": {},
   "outputs": [
    {
     "name": "stdout",
     "output_type": "stream",
     "text": [
      "[[ True  True  True  True]]\n"
     ]
    }
   ],
   "source": [
    "print(a == layer1.forward(x))"
   ]
  },
  {
   "cell_type": "markdown",
   "metadata": {},
   "source": [
    "Kết quả này giống với kết quả của \\\\(a\\\\), lúc này ta lập trình cho fully connected layer với nhiều lớp"
   ]
  },
  {
   "cell_type": "code",
   "execution_count": 496,
   "metadata": {},
   "outputs": [],
   "source": [
    "class Network(object):\n",
    "    \"\"\"A simple fully-connected NN layer.\n",
    "    Args:\n",
    "    num_inputs (int): Kích thước của véc tơ input (số phần tử của vecto x)\n",
    "    num_outputs (int): Kích thước của véc tơ output (số class cần phân loại)\n",
    "    hidden_layers_sizes (list): Danh sách các kích thước của các hidden layer \n",
    "    Attributes:\n",
    "    sizes: Danh sách kích thước của các layer\n",
    "    layers: Danh sách các layer \n",
    "\n",
    "    \"\"\"\n",
    "    def __init__(self, num_inputs, num_outputs, hidden_layers_sizes):\n",
    "        self.num_inputs = num_inputs\n",
    "        self.num_outputs = num_outputs\n",
    "        self.hidden_layers_sizes = hidden_layers_sizes\n",
    "        # list các node ứng với các layer\n",
    "        sizes = [num_inputs, *hidden_layers_sizes, num_outputs]\n",
    "        # tạo ra list các layer tiện cho việc tính toán, không có layer cuối (softmax layer)\n",
    "        self.layers = [FC_layer(sizes[i], sizes[i+1], sigmoid) for i in range(len(sizes)-2)]\n",
    "        self.sizes = sizes\n",
    "        \n",
    "    def forward(self, x):\n",
    "        for layer in self.layers:\n",
    "            x = layer.forward(x)\n",
    "        # thực hiện softmax ở layer cuối\n",
    "        out = FC_layer(self.sizes[-2], self.sizes[-1], softmax_stable).forward(x)\n",
    "        return out\n",
    "    "
   ]
  },
  {
   "cell_type": "code",
   "execution_count": 497,
   "metadata": {},
   "outputs": [],
   "source": [
    "np.random.seed(2)\n",
    "net = Network(2,2,[4])"
   ]
  },
  {
   "cell_type": "code",
   "execution_count": 498,
   "metadata": {},
   "outputs": [
    {
     "name": "stdout",
     "output_type": "stream",
     "text": [
      "[[ True  True  True  True]\n",
      " [ True  True  True  True]]\n"
     ]
    }
   ],
   "source": [
    "for layer in net.layers:\n",
    "    print(layer.W == W_1)"
   ]
  },
  {
   "cell_type": "code",
   "execution_count": 501,
   "metadata": {},
   "outputs": [],
   "source": [
    "np.random.seed(3)\n",
    "result = net.forward(x)"
   ]
  },
  {
   "cell_type": "code",
   "execution_count": 502,
   "metadata": {},
   "outputs": [
    {
     "data": {
      "text/plain": [
       "array([[0.44701103, 0.55298897]])"
      ]
     },
     "execution_count": 502,
     "metadata": {},
     "output_type": "execute_result"
    }
   ],
   "source": [
    "result"
   ]
  },
  {
   "cell_type": "markdown",
   "metadata": {},
   "source": [
    "Kết quả này giống với aa như ở phần trên "
   ]
  },
  {
   "cell_type": "code",
   "execution_count": 503,
   "metadata": {},
   "outputs": [
    {
     "name": "stdout",
     "output_type": "stream",
     "text": [
      "[[ True  True]]\n"
     ]
    }
   ],
   "source": [
    "print(result==aa)"
   ]
  },
  {
   "cell_type": "markdown",
   "metadata": {},
   "source": [
    "## Sơ bộ về Backward trong mạng Neural"
   ]
  },
  {
   "cell_type": "markdown",
   "metadata": {},
   "source": [
    "Có hai hàm loss được nhắc đến trong phần này\n",
    "\n",
    "- MSE (Mean Square Error): \\\\[MSE(y^t, y) = \\dfrac{1}{N}\\sum_i (y^t_i-y_i)^2,\\\\] trong đó \\\\(y^t\\\\) là giá trị đúng (ground truth hay label), \\\\(y\\\\) là giá trị có được sau một loạt các tính toán (logits)\n",
    "- BCE (Binary Cross Entropy): \\\\[BCE(y^t, y) = -\\dfrac{1}{N}\\sum_i y^t_i\\log(y_i)+(1-y^t_i)\\log(1-y_i)\\\\]\n",
    "\n",
    "Để minh họa tính toán cho phần Backward, tôi sẽ dùng MSE cho việc tính đạo hàm được đơn giản. Tuy vậy BCE lợi thế hơn hẳn vì nó là độ đo sai lệch giữa 2 phân bố, trong khi MSE chỉ đo về khoảng cách là chủ yếu.\n",
    "\n",
    "Phần code sẽ sử dụng cả hai hàm này để so sanhs"
   ]
  },
  {
   "cell_type": "markdown",
   "metadata": {},
   "source": [
    "### chain rule\n",
    "đơn giản là đạo hàm của hàm hợp, thực hiện tính toán cập nhật trọng số trong giải thuật gradient descent.\n",
    "\n",
    "![](https://andymath.com/wp-content/uploads/2019/08/chain-rule.jpg)\n",
    "\n",
    "*Một lần nữa, bài viết không tập trung giải thích lý thuyết về gradient descent, nó khá dễ hiểu và cũng có nhiều tài liệu đã viết*.\n",
    "\n",
    "![](gradient_descent.png)\n",
    "\n",
    "Trong giải thuật này, ta cần cập nhật 2 loại trọng số , đó là \\\\(W\\\\) và \\\\(b\\\\).\n",
    "\n",
    "Xét tại layer thứ \\\\(k\\\\), ta có input, output, weights, bias của layer đó lần lượt là \\\\(x_k, a_k, W_k, b_k\\\\). Lẽ dĩ nhiên, output của layer thứ \\\\(k\\\\) là input của layer \\\\(k+1\\\\), do đó theo chain rule\n",
    "\\\\[\\frac{d L}{d W_{k}}=\\frac{d L}{d a_{k}} \\frac{d a_{k}}{d W_{k}}=\\frac{d L}{d a_{k}} \\frac{d a_{k}}{d z_{k}} \\frac{d z_{k}}{d W_{k}}=\\frac{d L}{d x_{k+1}} \\frac{d a_{k}}{d z_{k}} \\frac{d\\left(W_{k} \\cdot x_{k}+b_{k}\\right)}{d W_{k}}=l_{k+1}^{\\prime} \\odot f_{k}^{\\prime} \\frac{d\\left(W_{k} \\cdot x_{k}+b_{k}\\right)}{d W_{k}}=x_{k}^{\\top} \\cdot\\left(l_{k+1}^{\\prime} \\odot f_{k}^{\\prime}\\right)\\\\]\n",
    "\n",
    "Trong đó \n",
    "- \\\\(l'_{k+1}\\\\) là đạo hàm được tính cho layer \\\\(k+1\\\\) ứng với input \\\\(x_{k+1}\\\\).\n",
    "- \\\\(f'_k\\\\) là đạo hàm của activation function.\n",
    "- \\\\(x_T\\\\) là chuyển vị của \\\\(x\\\\)\n",
    "\n",
    "Ký hiệu \\\\(\\odot\\\\) là tích hadamard \n",
    "\\\\[\\left(\\begin{array}{ll}\n",
    "a_{0} & a_{1} \\\\\n",
    "a_{2} & a_{3}\n",
    "\\end{array}\\right) \\odot\\left(\\begin{array}{ll}\n",
    "b_{0} & b_{1} \\\\\n",
    "b_{2} & b_{3}\n",
    "\\end{array}\\right)=\\left(\\begin{array}{llll}\n",
    "a_{0} \\times b_{0} & a_{1} \\times b_{1} \\\\\n",
    "a_{2} \\times b_{2} & a_{3} \\times b_{3}\n",
    "\\end{array}\\right)\\\\]\n",
    "\n",
    "Một cách tương tự, tính toán đạo hàm của hàm loss ứng với biến số bias\n",
    "\\\\[\\dfrac{d L}{d b_{k}}=\\dfrac{d L}{d a_{k}} \\dfrac{d a_{k}}{d b_{k}}=\\dfrac{d L}{d a_{k}} \\dfrac{d a_{k}}{d z_{k}} \\dfrac{d z_{k}}{d b_{k}}=l_{k+1}^{\\prime} \\odot f_{k}^{\\prime} \\frac{d\\left(W_{k} \\cdot x_{k}+b_{k}\\right)}{d b_{k}}=1^T \\cdot l_{k+1}^{\\prime} \\odot f_{k}^{\\prime}\\\\]\n",
    "\n",
    "Thêm vào đó\n",
    "\\\\[\\frac{d L}{d x_{k}}=\\frac{d L}{d a_{k}} \\frac{d a_{k}}{d x_{k}}=\\frac{d L}{d a_{k}} \\frac{d a_{k}}{d z_{k}} \\frac{d z_{k}}{d x_{k}}=l_{k+1}^{\\prime} \\odot f_{k}^{\\prime} \\frac{d\\left(W_{k} \\cdot x_{k}+b_{k}\\right)}{d x_{k}}=W_{k}^{\\top} \\cdot\\left(l_{k+1}^{\\prime} \\odot f_{k}^{\\prime}\\right)\\\\]\n"
   ]
  },
  {
   "cell_type": "markdown",
   "metadata": {},
   "source": [
    "### Code trên TensorFlow"
   ]
  },
  {
   "cell_type": "markdown",
   "metadata": {},
   "source": [
    "- *: phép nhân trên python, nhân kiểu hadamard, có tính đối xứng\n",
    "- np.multiply: phép nhân trên numpy, nhân kiểu hadamard, có tính đối xứng\n",
    "- np.matmul: Phép nhân ma trận\n",
    "- np.dot: Phép nhân véc tơ và ma trận"
   ]
  },
  {
   "cell_type": "code",
   "execution_count": 594,
   "metadata": {},
   "outputs": [
    {
     "name": "stdout",
     "output_type": "stream",
     "text": [
      "[[19. 22.]\n",
      " [43. 50.]]\n",
      "[[23. 34.]\n",
      " [31. 46.]]\n",
      "[[19. 22.]\n",
      " [43. 50.]]\n",
      "[[23. 34.]\n",
      " [31. 46.]]\n",
      "[[ 5. 11. 17.]\n",
      " [11. 25. 39.]]\n",
      "[[ 5. 11. 17.]\n",
      " [11. 25. 39.]]\n"
     ]
    }
   ],
   "source": [
    "x = np.array([[1,2],[3,4]], dtype=np.float64)\n",
    "y = np.array([[5,6],[7,8]], dtype=np.float64)\n",
    "z = np.array([[1,2],[3,4], [5,6]]).T\n",
    "t = np.array([[1,2]])\n",
    "\n",
    "# print(x * y)\n",
    "# print(np.multiply(x, y))\n",
    "\n",
    "# print(x * t)\n",
    "# print(np.multiply(x, t))\n",
    "\n",
    "print(np.matmul(x,y))\n",
    "print(np.matmul(y,x))\n",
    "print(np.dot(x,y))\n",
    "print(np.dot(y,x))\n",
    "             \n",
    "print(np.matmul(x,z))\n",
    "print(np.dot(x,z))"
   ]
  },
  {
   "cell_type": "code",
   "execution_count": 507,
   "metadata": {},
   "outputs": [],
   "source": [
    "def sigmoid(x):     # sigmoid function\n",
    "    return 1 / (1 + np.exp(-x))\n",
    "\n",
    "def derivated_sigmoid(y):   # sigmoid derivative function: y' = y(1-y)\n",
    "    return y * (1 - y)\n",
    "\n",
    "def softmax(x):\n",
    "    return np.exp(x)/np.sum(np.exp(x), axis=1)\n",
    "\n",
    "def softmax_stable(z):\n",
    "    e = np.exp(z-np.max(z))\n",
    "    s = np.sum(e, axis=1, keepdims=True)\n",
    "    return e/s\n",
    "\n",
    "def mse_loss(label, pred):\n",
    "    return np.sum((label-pred)**2)/pred.shape[0]\n",
    "\n",
    "def derivative_mse(label, pred):\n",
    "    return 2*(label-pred) # biến là pred, không chia cho N bởi vì không ảnh hưởng nhiều đến kết quả.\n",
    "\n",
    "def binary_cross_entropy(label, pred):            # cross-entropy loss function\n",
    "    return -np.mean(np.multiply(np.log(pred), label) + np.multiply(np.log(1 - pred), (1 - label)))\n",
    "\n",
    "def derivated_binary_cross_entropy(label, pred):  # cross-entropy derivative function\n",
    "    return (pred - label) / (pred * (1 - pred))"
   ]
  },
  {
   "cell_type": "markdown",
   "metadata": {},
   "source": [
    "Bây giờ ta tiến hành code một layer fully connected đầy đủ forward và backward để có thể optimize W và b, bằng SGD qua từng batch (khi thực hành trên MNIST dataset) trên layer đó. Ở đây ta dùng sigmoid là activation cho mọi layer). Phần optimize đơn giản là áp dụng giải thuật Gradient Descent."
   ]
  },
  {
   "cell_type": "code",
   "execution_count": 601,
   "metadata": {},
   "outputs": [],
   "source": [
    "class FC_layer_complete(object):\n",
    "    def __init__(self, num_inputs, layer_size, activation_fn=sigmoid, d_activation_fn=derivated_sigmoid):\n",
    "        super().__init__()\n",
    "        self.W = np.random.standard_normal((num_inputs, layer_size))\n",
    "        self.b = np.random.standard_normal(layer_size)\n",
    "        self.activation_fn = activation_fn\n",
    "        self.d_activation_fn = d_activation_fn\n",
    "        \n",
    "        self.x, self.a, self.dL_dW, self.dL_db = None, None, None, None\n",
    "    def forward(self,x):\n",
    "        z = np.dot(x, self.W) + self.b\n",
    "        self.a = self.activation_fn(z)\n",
    "        self.x = x # giữ giá trị x lại để dùng cho backward\n",
    "        return self.a\n",
    "    def backward(self, dL_da):\n",
    "#         print(dL_da.shape)\n",
    "        da_dz = self.d_activation_fn(self.a) # f'\n",
    "#         print(da_dz.shape)\n",
    "        dL_dz = dL_da * da_dz # l'* f'\n",
    "        dz_dw = np.transpose(self.x) # x^T\n",
    "        dz_dx = np.transpose(self.W) # W^T\n",
    "        dz_db = np.ones(dL_da.shape[0])\n",
    "        \n",
    "        self.dL_dW = np.dot(dz_dw, dL_dz)\n",
    "        self.dL_db = np.dot(dz_db, dL_dz)\n",
    "        \n",
    "        dL_dx = np.dot(dL_dz, dz_dx)\n",
    "        return dL_dx\n",
    "    \n",
    "    def optimize(self, ep):\n",
    "        self.W -= ep*self.dL_dW\n",
    "        self.b -= ep*self.dL_db\n",
    "        "
   ]
  },
  {
   "cell_type": "markdown",
   "metadata": {},
   "source": [
    "Ta tạo một `class Network_complete`, thêm phương thức `evaluate_accuracy` để đánh giá accuracy trên tập test sau mỗi epoch.\n",
    "\n",
    "Phương thức `train` được tiến hành như sau:\n",
    "    - Lặp qua từng epoch, ở mỗi epoch lại lặp qua từng batch, mỗi batch có 32 samples.\n",
    "    - Ta shuffle và tạo batch cho data train (32 samples), sau đó tiến hành train và cập nhật trọng số trên\n",
    "    từng layer ứng với batch đó, đây gọi là mini batch GD."
   ]
  },
  {
   "cell_type": "code",
   "execution_count": 614,
   "metadata": {},
   "outputs": [],
   "source": [
    "class Network_complete(object):\n",
    "    def __init__(self,num_inputs,num_outputs,hidden_layers_sizes,loss_fn=binary_cross_entropy,\n",
    "                 d_loss_fn=derivated_binary_cross_entropy):\n",
    "        self.num_inputs = num_inputs\n",
    "        self.num_outputs = num_outputs\n",
    "        self.hidden_layers_sizes = hidden_layers_sizes\n",
    "        self.loss_fn = loss_fn\n",
    "        self.d_loss_fn = d_loss_fn\n",
    "        # list các node ứng với các layer\n",
    "        sizes = [num_inputs, *hidden_layers_sizes, num_outputs]\n",
    "        self.layers = [FC_layer_complete(sizes[i], sizes[i+1]) for i in range(len(sizes)-1)]\n",
    "#         self.sizes = sizes\n",
    "        \n",
    "    def forward_net(self, x):\n",
    "        for layer in self.layers:\n",
    "            x = layer.forward(x)\n",
    "        return x\n",
    "    \n",
    "    def backward_net(self,dL_da):\n",
    "        for layer in reversed(self.layers):\n",
    "            dL_da = layer.backward(dL_da)\n",
    "        return dL_da\n",
    "    \n",
    "    def optimize_net(self, ep):\n",
    "        for layer in self.layers:\n",
    "            layer.optimize(ep)\n",
    "    def evaluate_accuracy(self, x_val, y_val):\n",
    "        num_corrects = 0\n",
    "        for i in range(len(x_val)):\n",
    "            pred = np.argmax(self.forward_net(x_val[i]))\n",
    "#             print(pred)\n",
    "#             print(y_val[i])\n",
    "            if pred == y_val[i]:\n",
    "                num_corrects+=1\n",
    "        return num_corrects/len(x_val)\n",
    "    \n",
    "    def train(self, x_train, y_train, x_val, y_val, batch_size = 32, n_epochs=10,learning_rate=5e-3):\n",
    "        n_batches_per_epoch = int(len(x_train)/batch_size)\n",
    "        losses, val_accuracies = [], []\n",
    "    \n",
    "        for i in range(n_epochs):\n",
    "            epoch_loss = 0\n",
    "#             shuffle data\n",
    "            indexes = np.random.permutation(len(x_train))\n",
    "            \n",
    "            for b in range(n_batches_per_epoch):\n",
    "                # tạo batch:\n",
    "                b_idx_begin = b*batch_size\n",
    "                b_idx_end = b_idx_begin + batch_size\n",
    "                indexes_container = indexes[b_idx_begin:b_idx_end]\n",
    "                \n",
    "                x, y = x_train[indexes_container], y_train[indexes_container]\n",
    "                \n",
    "                # optimize\n",
    "                a = self.forward_net(x)\n",
    "                dL_da = self.d_loss_fn(label=y, pred=a)\n",
    "                self.backward_net(dL_da)\n",
    "                self.optimize_net(ep=learning_rate)\n",
    "                epoch_loss += self.loss_fn(label=y,pred=a)\n",
    "            epoch_loss/=n_batches_per_epoch\n",
    "            losses.append(epoch_loss)\n",
    "            val_acc = self.evaluate_accuracy(x_val, y_val)\n",
    "            val_accuracies.append(val_acc)\n",
    "            print(\"epoch: {} -- training loss={:.6f} -- val accuracy={:.2f}\".format(i+1, epoch_loss, val_acc))\n",
    "        return losses, val_accuracies\n",
    "                "
   ]
  },
  {
   "cell_type": "code",
   "execution_count": 615,
   "metadata": {},
   "outputs": [],
   "source": [
    "from tensorflow.keras.datasets.mnist import load_data\n",
    "from tensorflow.keras.utils import to_categorical\n",
    "def preprocessing_data():\n",
    "    (x_train, y_train), (x_test, y_test) = load_data()\n",
    "    x_train, x_test = x_train.astype('float32')/255., x_test.astype('float32')/255.\n",
    "    x_train, x_test = x_train.reshape((-1, 28*28)), x_test.reshape((-1, 28*28))\n",
    "    y_train = to_categorical(y_train)\n",
    "    return (x_train, y_train), (x_test, y_test)\n",
    "    "
   ]
  },
  {
   "cell_type": "code",
   "execution_count": 621,
   "metadata": {},
   "outputs": [],
   "source": [
    "(x_train, y_train), (x_test, y_test) = preprocessing_data()"
   ]
  },
  {
   "cell_type": "code",
   "execution_count": 622,
   "metadata": {},
   "outputs": [
    {
     "data": {
      "text/plain": [
       "(60000, 784)"
      ]
     },
     "execution_count": 622,
     "metadata": {},
     "output_type": "execute_result"
    }
   ],
   "source": [
    "x_train.shape"
   ]
  },
  {
   "cell_type": "code",
   "execution_count": 623,
   "metadata": {},
   "outputs": [],
   "source": [
    "n_classes = 10\n",
    "\n",
    "mnist_net = Network_complete(x_train.shape[1], n_classes, [64, 32])"
   ]
  },
  {
   "cell_type": "code",
   "execution_count": 624,
   "metadata": {},
   "outputs": [
    {
     "name": "stdout",
     "output_type": "stream",
     "text": [
      "epoch: 1 -- training loss=0.161560 -- val accuracy=0.85\n",
      "epoch: 2 -- training loss=0.085164 -- val accuracy=0.89\n",
      "epoch: 3 -- training loss=0.067998 -- val accuracy=0.90\n",
      "epoch: 4 -- training loss=0.059162 -- val accuracy=0.91\n",
      "epoch: 5 -- training loss=0.053312 -- val accuracy=0.92\n",
      "epoch: 6 -- training loss=0.048876 -- val accuracy=0.92\n",
      "epoch: 7 -- training loss=0.045440 -- val accuracy=0.93\n",
      "epoch: 8 -- training loss=0.042690 -- val accuracy=0.93\n",
      "epoch: 9 -- training loss=0.040216 -- val accuracy=0.93\n",
      "epoch: 10 -- training loss=0.038245 -- val accuracy=0.93\n"
     ]
    }
   ],
   "source": [
    "losses, accuracies = mnist_net.train(x_train, y_train, x_test, y_test)"
   ]
  },
  {
   "cell_type": "code",
   "execution_count": 636,
   "metadata": {},
   "outputs": [],
   "source": [
    "def plot(data):\n",
    "    plt.figure(figsize=(10,5))\n",
    "    if data == 'losses':\n",
    "        plt.title('Training Loss')\n",
    "        plt.ylabel('Loss')\n",
    "        plt.plot(range(10), [losses[i] for i in range(10)])\n",
    "    if data == 'accuracies':\n",
    "        plt.title('Validation Accuracy')\n",
    "        plt.ylabel('Accuracy')\n",
    "        plt.plot(range(10), [accuracies[i] for i in range(10)])\n",
    "    plt.xlabel('Epoch')\n",
    "    plt.show()\n",
    "    "
   ]
  },
  {
   "cell_type": "code",
   "execution_count": 637,
   "metadata": {},
   "outputs": [
    {
     "data": {
      "image/png": "[encoded data removed]",
      "text/plain": [
       "<Figure size 720x360 with 1 Axes>"
      ]
     },
     "metadata": {
      "needs_background": "light"
     },
     "output_type": "display_data"
    }
   ],
   "source": [
    "plot('losses')"
   ]
  },
  {
   "cell_type": "code",
   "execution_count": 638,
   "metadata": {},
   "outputs": [
    {
     "data": {
      "image/png": "[encoded data removed]",
      "text/plain": [
       "<Figure size 720x360 with 1 Axes>"
      ]
     },
     "metadata": {
      "needs_background": "light"
     },
     "output_type": "display_data"
    }
   ],
   "source": [
    "plot('accuracies')"
   ]
  },
  {
   "cell_type": "markdown",
   "metadata": {},
   "source": [
    "## TÀI LIỆU THAM KHẢO\n",
    "\n",
    "- [1] https://machinelearningcoban.com/2017/02/24/mlp/\n",
    "\n",
    "- [2] https://aayushmnit.github.io/posts/2018/06/Building_neural_network_from_scratch/\n",
    "\n",
    "- [3] https://github.com/PacktPublishing/Hands-On-Computer-Vision-with-TensorFlow-2"
   ]
  }
 ],
 "metadata": {
  "kernelspec": {
   "display_name": "Python 3",
   "language": "python",
   "name": "python3"
  },
  "language_info": {
   "codemirror_mode": {
    "name": "ipython",
    "version": 3
   },
   "file_extension": ".py",
   "mimetype": "text/x-python",
   "name": "python",
   "nbconvert_exporter": "python",
   "pygments_lexer": "ipython3",
   "version": "3.7.5"
  }
 },
 "nbformat": 4,
 "nbformat_minor": 2
}
